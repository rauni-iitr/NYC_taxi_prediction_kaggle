{
 "cells": [
  {
   "cell_type": "code",
   "execution_count": 1014,
   "metadata": {},
   "outputs": [],
   "source": [
    "import numpy as np\n",
    "import pandas as pd\n",
    "import matplotlib.pyplot as plt\n",
    "import seaborn as sns"
   ]
  },
  {
   "cell_type": "code",
   "execution_count": 967,
   "metadata": {},
   "outputs": [],
   "source": [
    "train=pd.read_csv('train.csv',nrows=2_00_000)\n",
    "test=pd.read_csv('test.csv',parse_dates=True)\n"
   ]
  },
  {
   "cell_type": "code",
   "execution_count": 968,
   "metadata": {},
   "outputs": [],
   "source": [
    "def distance(df):\n",
    "    df['abs_lat']=(df.dropoff_latitude-df.pickup_latitude).abs()\n",
    "    df['abs_lon']=(df.dropoff_longitude-df.pickup_longitude).abs()"
   ]
  },
  {
   "cell_type": "code",
   "execution_count": 969,
   "metadata": {},
   "outputs": [],
   "source": [
    "distance(train)\n",
    "distance(test)"
   ]
  },
  {
   "cell_type": "code",
   "execution_count": 970,
   "metadata": {},
   "outputs": [],
   "source": [
    "train=train.dropna(how='any',axis=0)\n",
    "#train.info()"
   ]
  },
  {
   "cell_type": "code",
   "execution_count": 971,
   "metadata": {},
   "outputs": [],
   "source": [
    "#train.corr()\n",
    "#test.info()"
   ]
  },
  {
   "cell_type": "code",
   "execution_count": 972,
   "metadata": {},
   "outputs": [],
   "source": [
    "train=train[train.fare_amount>0]\n",
    "#train.info()\n",
    "train=train[(train.abs_lat<1)&(train.abs_lon<1)]\n",
    "#train.describe()"
   ]
  },
  {
   "cell_type": "code",
   "execution_count": 973,
   "metadata": {},
   "outputs": [],
   "source": [
    "#train.loc[(train.fare_amount>200)]"
   ]
  },
  {
   "cell_type": "code",
   "execution_count": 974,
   "metadata": {},
   "outputs": [],
   "source": [
    "#train.loc[(train['pickup_longitude']==0)&(train['pickup_latitude']==0)]"
   ]
  },
  {
   "cell_type": "code",
   "execution_count": 975,
   "metadata": {},
   "outputs": [],
   "source": [
    "#train.loc[(train['pickup_longitude']==0)]\n",
    "#train[(train['pickup_longitude']==0)&(train['pickup_latitude']==0)].count()\n",
    "#test[(test['pickup_longitude']==0)&(test['pickup_latitude']==0)].count()"
   ]
  },
  {
   "cell_type": "code",
   "execution_count": 976,
   "metadata": {},
   "outputs": [],
   "source": [
    "#train.loc[(train['pickup_latitude']==0)]\n",
    "#test.loc[test.passenger_count==0]"
   ]
  },
  {
   "cell_type": "code",
   "execution_count": 977,
   "metadata": {},
   "outputs": [],
   "source": [
    "train=train[(train['pickup_longitude']!=0)]\n",
    "train=train[train.passenger_count!=0]"
   ]
  },
  {
   "cell_type": "code",
   "execution_count": 978,
   "metadata": {},
   "outputs": [],
   "source": [
    "#train.describe()\n",
    "#train.loc[(train.pickup_longitude>0)&(train.pickup_latitude<0)]"
   ]
  },
  {
   "cell_type": "code",
   "execution_count": 979,
   "metadata": {},
   "outputs": [],
   "source": [
    "cond=(train.pickup_longitude>0) & (train.pickup_latitude<0)\n",
    "train.loc[cond,['pickup_longitude','pickup_latitude']]=train.loc[cond,['pickup_latitude','pickup_longitude']].values\n",
    "train.loc[cond,['dropoff_longitude','dropoff_latitude']]=train.loc[cond,['dropoff_latitude','dropoff_longitude']].values"
   ]
  },
  {
   "cell_type": "code",
   "execution_count": 980,
   "metadata": {},
   "outputs": [],
   "source": [
    "#test.loc[(test.pickup_longitude>0)]\n",
    "#train.loc[(train.pickup_latitude<0)]\n",
    "#train.loc[(train.pickup_longitude>0)]\n",
    "#train.loc[(train.dropoff_longitude>0)]\n",
    "train=train[(train.pickup_longitude<-10)]"
   ]
  },
  {
   "cell_type": "code",
   "execution_count": 981,
   "metadata": {},
   "outputs": [],
   "source": [
    "#plt.scatter(train.pickup_longitude,train.pickup_latitude)"
   ]
  },
  {
   "cell_type": "code",
   "execution_count": 982,
   "metadata": {},
   "outputs": [],
   "source": [
    "#plt.scatter(train.dropoff_longitude,train.dropoff_latitude)\n",
    "#plt.scatter(test.pickup_longitude,test.pickup_latitude)"
   ]
  },
  {
   "cell_type": "code",
   "execution_count": 983,
   "metadata": {},
   "outputs": [],
   "source": [
    "#train.loc[(train.dropoff_longitude>0)&(train.dropoff_latitude<0)]"
   ]
  },
  {
   "cell_type": "code",
   "execution_count": 984,
   "metadata": {
    "scrolled": true
   },
   "outputs": [],
   "source": [
    "train=train[(train.fare_amount>0.1)]\n",
    "#train.groupby('passenger_count')['fare_amount'].min()\n",
    "#train['passenger_count'].value_counts()\n",
    "train['pickup_datetime']=pd.to_datetime(train['pickup_datetime'])"
   ]
  },
  {
   "cell_type": "code",
   "execution_count": 1007,
   "metadata": {},
   "outputs": [
    {
     "data": {
      "text/plain": [
       "pickup_datetime\n",
       "0     11.584566\n",
       "1     11.584514\n",
       "2     11.595550\n",
       "3     11.991769\n",
       "4     13.547048\n",
       "5     14.881881\n",
       "6     12.265310\n",
       "7     11.003020\n",
       "8     10.837789\n",
       "9     10.795681\n",
       "10    10.861286\n",
       "11    11.157240\n",
       "12    11.079903\n",
       "13    11.570448\n",
       "14    11.912628\n",
       "15    12.096309\n",
       "16    11.923413\n",
       "17    11.266933\n",
       "18    10.913207\n",
       "19    10.607643\n",
       "20    10.870132\n",
       "21    11.082884\n",
       "22    11.249585\n",
       "23    11.526426\n",
       "Name: fare_amount, dtype: float64"
      ]
     },
     "execution_count": 1007,
     "metadata": {},
     "output_type": "execute_result"
    }
   ],
   "source": [
    "#plt.hist(train['pickup_datetime'].dt.hour,24,rwidth=0.75)\n",
    "train.groupby(train['pickup_datetime'].dt.hour)['fare_amount'].mean()\n"
   ]
  },
  {
   "cell_type": "code",
   "execution_count": 1006,
   "metadata": {},
   "outputs": [],
   "source": [
    "train['pickup_hour']=train['pickup_datetime'].dt.hour\n",
    "train['pickup_year']=train['pickup_datetime'].dt.year\n",
    "x=train.copy()\n",
    "x=x.drop(['key','pickup_datetime','fare_amount'],1)\n",
    "y=train['fare_amount'].copy()\n",
    "\n",
    "test['pickup_datetime']=pd.to_datetime(test['pickup_datetime'])\n",
    "test['pickup_hour']=test['pickup_datetime'].dt.hour\n",
    "test['pickup_year']=test['pickup_datetime'].dt.year\n",
    "x_test=test.drop(['key','pickup_datetime'],axis=1)\n",
    "key=test['key']\n",
    "x.head()\n",
    "\n",
    "from sklearn.preprocessing import LabelEncoder,OneHotEncoder,StandardScaler\n",
    "lenc=LabelEncoder()\n",
    "dummy=OneHotEncoder(categorical_features=[-1])\n",
    "x['pickup_year']=lenc.fit_transform(x['pickup_year'])\n",
    "x_test['pickup_year']=lenc.transform(x_test['pickup_year'])\n",
    "\n",
    "x=dummy.fit_transform(x).toarray()\n",
    "x_test=dummy.transform(x_test).toarray()\n",
    "x=x[:,:-1]\n",
    "x_test=x_test[:,:-1]"
   ]
  },
  {
   "cell_type": "code",
   "execution_count": 1000,
   "metadata": {},
   "outputs": [],
   "source": [
    "sc_x = StandardScaler()\n",
    "col=['pickup_longitude','pickup_latitude','dropoff_longitude','dropoff_latitude','passenger_count',\n",
    "     'abs_lat','abs_lon','pickup_hour','pickup_year']\n",
    "cols=['pickup_longitude','pickup_latitude','dropoff_longitude','dropoff_latitude','passenger_count',\n",
    "     'abs_lat','abs_lon','pickup_hour','pickup_year']\n",
    "x=sc_x.fit_transform(x)\n",
    "x_test=sc_x.transform(x_test)\n",
    "#x_test.loc[(x_test.pickup_year==0)]"
   ]
  },
  {
   "cell_type": "code",
   "execution_count": 988,
   "metadata": {},
   "outputs": [
    {
     "data": {
      "text/plain": [
       "\"x=train.drop(['fare_amount'],axis=1)\\ny=train['fare_amount'].copy()\\nfrom sklearn.model_selection import train_test_split\\nx_train,x_test,y_train,y_test=train_test_split(x,y,test_size=0.25,random_state=42)\""
      ]
     },
     "execution_count": 988,
     "metadata": {},
     "output_type": "execute_result"
    }
   ],
   "source": [
    "\"\"\"x=train.drop(['fare_amount'],axis=1)\n",
    "y=train['fare_amount'].copy()\n",
    "from sklearn.model_selection import train_test_split\n",
    "x_train,x_test,y_train,y_test=train_test_split(x,y,test_size=0.25,random_state=42)\"\"\""
   ]
  },
  {
   "cell_type": "code",
   "execution_count": 1001,
   "metadata": {},
   "outputs": [],
   "source": [
    "from sklearn.linear_model import LinearRegression\n",
    "reg=LinearRegression()"
   ]
  },
  {
   "cell_type": "code",
   "execution_count": 990,
   "metadata": {},
   "outputs": [
    {
     "data": {
      "text/plain": [
       "LinearRegression(copy_X=True, fit_intercept=True, n_jobs=1, normalize=False)"
      ]
     },
     "execution_count": 990,
     "metadata": {},
     "output_type": "execute_result"
    }
   ],
   "source": [
    "reg.fit(x,y)"
   ]
  },
  {
   "cell_type": "code",
   "execution_count": 991,
   "metadata": {},
   "outputs": [
    {
     "name": "stdout",
     "output_type": "stream",
     "text": [
      "[-37.82598705 -30.38994913 -39.54461335 -29.6519092  -30.56376191\n",
      " -45.12929481 -33.77481416 -30.46921541 -31.43881653 -32.1775087 ]\n"
     ]
    }
   ],
   "source": [
    "from sklearn.model_selection import cross_val_score,KFold,cross_val_predict\n",
    "kf=KFold(n_splits=10,random_state=42)\n",
    "score=cross_val_score(reg,x,y,cv=kf,scoring='neg_mean_squared_error')\n",
    "print(score)"
   ]
  },
  {
   "cell_type": "code",
   "execution_count": 992,
   "metadata": {},
   "outputs": [
    {
     "data": {
      "text/plain": [
       "array([10.15555177, 11.44754396,  5.61558137, ..., 49.97642121,\n",
       "       21.24483094,  9.01918397])"
      ]
     },
     "execution_count": 992,
     "metadata": {},
     "output_type": "execute_result"
    }
   ],
   "source": [
    "y_pred=reg.predict(x_test)\n",
    "y_pred"
   ]
  },
  {
   "cell_type": "code",
   "execution_count": 993,
   "metadata": {},
   "outputs": [],
   "source": [
    "texi0=pd.DataFrame({'key':key,'fare_amount':y_pred})\n",
    "texi0.to_csv('texi0.csv',index=False)"
   ]
  },
  {
   "cell_type": "code",
   "execution_count": 1002,
   "metadata": {},
   "outputs": [
    {
     "name": "stdout",
     "output_type": "stream",
     "text": [
      "[-21.81096762 -24.23765395 -36.58073628 -24.96430992 -23.51260852\n",
      " -34.19491167 -21.05069065 -22.9547377  -22.08034101 -27.67116002]\n"
     ]
    }
   ],
   "source": [
    "from sklearn.preprocessing import PolynomialFeatures\n",
    "poly=PolynomialFeatures(degree=2)\n",
    "x_poly=poly.fit_transform(x)\n",
    "x_test_poly=poly.transform(x_test)\n",
    "x_poly\n",
    "poly_reg=LinearRegression()\n",
    "poly_reg.fit(x_poly,y)\n",
    "print(cross_val_score(poly_reg,x_poly,y,cv=10\n",
    "                      ,scoring='neg_mean_squared_error'))"
   ]
  },
  {
   "cell_type": "code",
   "execution_count": 1003,
   "metadata": {},
   "outputs": [
    {
     "data": {
      "text/plain": [
       "array([ 9.4432373 , 10.2199707 ,  5.10913086, ..., 56.47265625,\n",
       "       23.96014404,  8.12811279])"
      ]
     },
     "execution_count": 1003,
     "metadata": {},
     "output_type": "execute_result"
    }
   ],
   "source": [
    "y_pred1=poly_reg.predict(x_test_poly)\n",
    "y_pred1"
   ]
  },
  {
   "cell_type": "code",
   "execution_count": 1004,
   "metadata": {},
   "outputs": [],
   "source": [
    "texi1=pd.DataFrame({'key':key,'fare_amount':y_pred1})\n",
    "texi1.to_csv('texi1.csv',index=False)"
   ]
  },
  {
   "cell_type": "code",
   "execution_count": null,
   "metadata": {},
   "outputs": [],
   "source": [
    "a= np.random.rand(2,3)\n",
    "b=np.random.rand(2,1)\n",
    "c=a*b\n",
    "print(c)"
   ]
  },
  {
   "cell_type": "code",
   "execution_count": 1027,
   "metadata": {},
   "outputs": [
    {
     "name": "stdout",
     "output_type": "stream",
     "text": [
      "[[35.23829338 40.48499384 43.20010923 ... 33.70209296 37.38111559\n",
      "  38.56128116]\n",
      " [35.03784902 39.02783458 40.88207852 ... 32.33004079 34.24666251\n",
      "  32.96597712]\n",
      " [41.31128526 41.81257439 46.12919184 ... 37.91166594 40.18273027\n",
      "  37.30918722]\n",
      " ...\n",
      " [32.7303108  35.30990205 38.95436895 ... 31.61500537 32.87119361\n",
      "  33.58734933]\n",
      " [38.68771007 37.67797761 43.25328797 ... 32.51256286 37.39581806\n",
      "  35.49085514]\n",
      " [38.28402186 38.3234941  42.95929016 ... 33.46260437 37.60287177\n",
      "  36.25947465]]\n"
     ]
    }
   ],
   "source": [
    "a = np.random.rand(12288, 150) # a.shape = (12288, 150)\n",
    "b = np.random.rand(150, 45) # b.shape = (150, 45)\n",
    "c = np.dot(a,b)\n",
    "print (c)"
   ]
  },
  {
   "cell_type": "markdown",
   "metadata": {},
   "source": []
  },
  {
   "cell_type": "code",
   "execution_count": null,
   "metadata": {},
   "outputs": [],
   "source": []
  },
  {
   "cell_type": "code",
   "execution_count": null,
   "metadata": {},
   "outputs": [],
   "source": []
  }
 ],
 "metadata": {
  "kernelspec": {
   "display_name": "Python 3",
   "language": "python",
   "name": "python3"
  },
  "language_info": {
   "codemirror_mode": {
    "name": "ipython",
    "version": 3
   },
   "file_extension": ".py",
   "mimetype": "text/x-python",
   "name": "python",
   "nbconvert_exporter": "python",
   "pygments_lexer": "ipython3",
   "version": "3.6.5"
  }
 },
 "nbformat": 4,
 "nbformat_minor": 2
}
